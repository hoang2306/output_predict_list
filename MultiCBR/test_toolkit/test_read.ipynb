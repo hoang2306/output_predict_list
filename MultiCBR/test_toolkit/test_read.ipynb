{
 "cells": [
  {
   "cell_type": "code",
   "execution_count": 1,
   "metadata": {},
   "outputs": [],
   "source": [
    "import pandas as pd \n",
    "import torch\n",
    "import numpy as np \n",
    "import matplotlib.pyplot as plt "
   ]
  },
  {
   "cell_type": "code",
   "execution_count": 9,
   "metadata": {},
   "outputs": [
    {
     "data": {
      "text/html": [
       "<div>\n",
       "<style scoped>\n",
       "    .dataframe tbody tr th:only-of-type {\n",
       "        vertical-align: middle;\n",
       "    }\n",
       "\n",
       "    .dataframe tbody tr th {\n",
       "        vertical-align: top;\n",
       "    }\n",
       "\n",
       "    .dataframe thead th {\n",
       "        text-align: right;\n",
       "    }\n",
       "</style>\n",
       "<table border=\"1\" class=\"dataframe\">\n",
       "  <thead>\n",
       "    <tr style=\"text-align: right;\">\n",
       "      <th></th>\n",
       "      <th>user</th>\n",
       "      <th>bundle</th>\n",
       "    </tr>\n",
       "  </thead>\n",
       "  <tbody>\n",
       "    <tr>\n",
       "      <th>0</th>\n",
       "      <td>0</td>\n",
       "      <td>2748</td>\n",
       "    </tr>\n",
       "    <tr>\n",
       "      <th>1</th>\n",
       "      <td>0</td>\n",
       "      <td>4627</td>\n",
       "    </tr>\n",
       "    <tr>\n",
       "      <th>2</th>\n",
       "      <td>0</td>\n",
       "      <td>3267</td>\n",
       "    </tr>\n",
       "    <tr>\n",
       "      <th>3</th>\n",
       "      <td>0</td>\n",
       "      <td>1594</td>\n",
       "    </tr>\n",
       "    <tr>\n",
       "      <th>4</th>\n",
       "      <td>0</td>\n",
       "      <td>1664</td>\n",
       "    </tr>\n",
       "    <tr>\n",
       "      <th>5</th>\n",
       "      <td>0</td>\n",
       "      <td>403</td>\n",
       "    </tr>\n",
       "    <tr>\n",
       "      <th>6</th>\n",
       "      <td>0</td>\n",
       "      <td>3866</td>\n",
       "    </tr>\n",
       "    <tr>\n",
       "      <th>7</th>\n",
       "      <td>0</td>\n",
       "      <td>327</td>\n",
       "    </tr>\n",
       "    <tr>\n",
       "      <th>8</th>\n",
       "      <td>0</td>\n",
       "      <td>2092</td>\n",
       "    </tr>\n",
       "    <tr>\n",
       "      <th>9</th>\n",
       "      <td>0</td>\n",
       "      <td>1345</td>\n",
       "    </tr>\n",
       "  </tbody>\n",
       "</table>\n",
       "</div>"
      ],
      "text/plain": [
       "   user  bundle\n",
       "0     0    2748\n",
       "1     0    4627\n",
       "2     0    3267\n",
       "3     0    1594\n",
       "4     0    1664\n",
       "5     0     403\n",
       "6     0    3866\n",
       "7     0     327\n",
       "8     0    2092\n",
       "9     0    1345"
      ]
     },
     "execution_count": 9,
     "metadata": {},
     "output_type": "execute_result"
    }
   ],
   "source": [
    "with open('../../../datasets/Youshu/user_bundle_test.txt') as f:\n",
    "    ground_truth = f.readlines()\n",
    "ground_truth = [i.strip() for i in ground_truth]\n",
    "ground_truth = [[int(i) for i in j.split('\\t')] for j in ground_truth]\n",
    "ground_truth = np.array(ground_truth)\n",
    "# create df from ground_truth\n",
    "groundtruth_df = pd.DataFrame(ground_truth, columns=['user', 'bundle'])\n",
    "groundtruth_df[groundtruth_df['user']==0]"
   ]
  },
  {
   "cell_type": "code",
   "execution_count": 19,
   "metadata": {},
   "outputs": [
    {
     "data": {
      "text/plain": [
       "[4744,\n",
       " 1139,\n",
       " 997,\n",
       " 3196,\n",
       " 4467,\n",
       " 2305,\n",
       " 1179,\n",
       " 522,\n",
       " 821,\n",
       " 421,\n",
       " 3507,\n",
       " 2763,\n",
       " 535,\n",
       " 816,\n",
       " 1499,\n",
       " 1578,\n",
       " 3267,\n",
       " 436,\n",
       " 2748,\n",
       " 1373,\n",
       " 3498,\n",
       " 1285,\n",
       " 1759,\n",
       " 3154,\n",
       " 1610,\n",
       " 4072,\n",
       " 24,\n",
       " 2092,\n",
       " 3450,\n",
       " 3866,\n",
       " 3102,\n",
       " 3787,\n",
       " 493,\n",
       " 4345,\n",
       " 1324,\n",
       " 3281,\n",
       " 3562,\n",
       " 4159,\n",
       " 2393,\n",
       " 4449,\n",
       " 1596,\n",
       " 3713,\n",
       " 1203,\n",
       " 1902,\n",
       " 78,\n",
       " 1135,\n",
       " 4475,\n",
       " 1594,\n",
       " 2920,\n",
       " 247,\n",
       " 3567,\n",
       " 2956,\n",
       " 223,\n",
       " 1238,\n",
       " 790,\n",
       " 2059,\n",
       " 1169,\n",
       " 3300,\n",
       " 4302,\n",
       " 3569,\n",
       " 2850,\n",
       " 3546,\n",
       " 4584,\n",
       " 3233,\n",
       " 3373,\n",
       " 4690,\n",
       " 3329,\n",
       " 1601,\n",
       " 1122,\n",
       " 2677,\n",
       " 3246,\n",
       " 337,\n",
       " 371,\n",
       " 3077,\n",
       " 4751,\n",
       " 2039,\n",
       " 1218,\n",
       " 3254,\n",
       " 3534,\n",
       " 2105,\n",
       " 628,\n",
       " 3399,\n",
       " 989,\n",
       " 2697,\n",
       " 3145,\n",
       " 2142,\n",
       " 3718,\n",
       " 1696,\n",
       " 378,\n",
       " 3109,\n",
       " 1348,\n",
       " 1763,\n",
       " 417,\n",
       " 893,\n",
       " 118,\n",
       " 2159,\n",
       " 1236,\n",
       " 3837,\n",
       " 3999,\n",
       " 1624]"
      ]
     },
     "execution_count": 19,
     "metadata": {},
     "output_type": "execute_result"
    }
   ],
   "source": [
    "predict_df = pd.read_csv('./user_bundle_predict_list.csv')\n",
    "predict_df[predict_df['user']==0]['bundle'].to_list()"
   ]
  },
  {
   "cell_type": "code",
   "execution_count": 33,
   "metadata": {},
   "outputs": [
    {
     "name": "stdout",
     "output_type": "stream",
     "text": [
      "0.5548492789728274\n"
     ]
    }
   ],
   "source": [
    "def cnt_inner(user_id, predict_df, ground_truth_df):\n",
    "    a_df = predict_df[predict_df['user']==user_id]['bundle'].to_list()\n",
    "    b_df = groundtruth_df[groundtruth_df['user']==user_id]['bundle'].to_list()\n",
    "    c = set(a_df) & set(b_df)\n",
    "    return c, len(a_df), len(b_df) \n",
    "\n",
    "correct_item, len_predict, len_ground_truth = cnt_inner(user_id=0,predict_df=predict_df, ground_truth_df=groundtruth_df)\n",
    "\n",
    "recall = 0\n",
    "len_user = len(set(predict_df['user'].to_list()))\n",
    "len_user_no_positive_item = 0\n",
    "for user in range(len_user):\n",
    "    correct_item, len_predict, len_ground_truth = cnt_inner(user_id=user, predict_df=predict_df, ground_truth_df=groundtruth_df)\n",
    "    if len_ground_truth == 0:\n",
    "        len_user_no_positive_item += 1  # no positive item in ground truth, so skip this user\n",
    "        continue\n",
    "    else:\n",
    "        recall += len(correct_item) / (len_ground_truth)\n",
    "\n",
    "print(recall / (len_user-len_user_no_positive_item))"
   ]
  },
  {
   "cell_type": "code",
   "execution_count": 32,
   "metadata": {},
   "outputs": [
    {
     "name": "stdout",
     "output_type": "stream",
     "text": [
      "tensor([[0.5464, 0.3795, 0.2878],\n",
      "        [0.7117, 0.3702, 0.1448]])\n"
     ]
    },
    {
     "data": {
      "text/plain": [
       "tensor([1.2137, 1.2267])"
      ]
     },
     "execution_count": 32,
     "metadata": {},
     "output_type": "execute_result"
    }
   ],
   "source": [
    "a = torch.rand(2,3)\n",
    "print(a)\n",
    "a.sum(dim=1) # [m, n] -> [1, m]"
   ]
  }
 ],
 "metadata": {
  "kernelspec": {
   "display_name": "rs_torch",
   "language": "python",
   "name": "python3"
  },
  "language_info": {
   "codemirror_mode": {
    "name": "ipython",
    "version": 3
   },
   "file_extension": ".py",
   "mimetype": "text/x-python",
   "name": "python",
   "nbconvert_exporter": "python",
   "pygments_lexer": "ipython3",
   "version": "3.8.17"
  }
 },
 "nbformat": 4,
 "nbformat_minor": 2
}
